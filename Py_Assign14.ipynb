{
 "cells": [
  {
   "cell_type": "markdown",
   "metadata": {},
   "source": [
    "### SQL Assignment - sqlalchemy"
   ]
  },
  {
   "cell_type": "markdown",
   "metadata": {},
   "source": [
    "#### Problem Statement:\n",
    "\n",
    "Read the following data set:\n",
    "https://archive.ics.uci.edu/ml/machine-learning-databases/adult/adult.data\n",
    "\n",
    "Task:\n",
    "1. Create an sqlalchemy engine using a sample from the data set\n",
    "2. Write two basic update queries\n",
    "3. Write two delete queries\n",
    "4. Write two filter queries\n",
    "5. Write two function queries"
   ]
  },
  {
   "cell_type": "code",
   "execution_count": 1,
   "metadata": {},
   "outputs": [],
   "source": [
    "import pandas as pd\n",
    "from numpy import genfromtxt\n",
    "from time import time\n",
    "from datetime import datetime\n",
    "from sqlalchemy import Column, Integer, Float, Date, String, MetaData\n",
    "from sqlalchemy.ext.declarative import declarative_base\n",
    "from sqlalchemy import create_engine\n",
    "from sqlalchemy.orm import sessionmaker"
   ]
  },
  {
   "cell_type": "code",
   "execution_count": 2,
   "metadata": {},
   "outputs": [
    {
     "data": {
      "text/html": [
       "<div>\n",
       "<style scoped>\n",
       "    .dataframe tbody tr th:only-of-type {\n",
       "        vertical-align: middle;\n",
       "    }\n",
       "\n",
       "    .dataframe tbody tr th {\n",
       "        vertical-align: top;\n",
       "    }\n",
       "\n",
       "    .dataframe thead th {\n",
       "        text-align: right;\n",
       "    }\n",
       "</style>\n",
       "<table border=\"1\" class=\"dataframe\">\n",
       "  <thead>\n",
       "    <tr style=\"text-align: right;\">\n",
       "      <th></th>\n",
       "      <th>age</th>\n",
       "      <th>type_employer</th>\n",
       "      <th>fnlwgt</th>\n",
       "      <th>education</th>\n",
       "      <th>education_num</th>\n",
       "      <th>marital</th>\n",
       "      <th>occupation</th>\n",
       "      <th>relationship</th>\n",
       "      <th>race</th>\n",
       "      <th>sex</th>\n",
       "      <th>capital_gain</th>\n",
       "      <th>capital_loss</th>\n",
       "      <th>hr_per_week</th>\n",
       "      <th>country</th>\n",
       "      <th>income</th>\n",
       "    </tr>\n",
       "  </thead>\n",
       "  <tbody>\n",
       "    <tr>\n",
       "      <th>0</th>\n",
       "      <td>39</td>\n",
       "      <td>State-gov</td>\n",
       "      <td>77516</td>\n",
       "      <td>Bachelors</td>\n",
       "      <td>13</td>\n",
       "      <td>Never-married</td>\n",
       "      <td>Adm-clerical</td>\n",
       "      <td>Not-in-family</td>\n",
       "      <td>White</td>\n",
       "      <td>Male</td>\n",
       "      <td>2174</td>\n",
       "      <td>0</td>\n",
       "      <td>40</td>\n",
       "      <td>United-States</td>\n",
       "      <td>&lt;=50K</td>\n",
       "    </tr>\n",
       "    <tr>\n",
       "      <th>1</th>\n",
       "      <td>50</td>\n",
       "      <td>Self-emp-not-inc</td>\n",
       "      <td>83311</td>\n",
       "      <td>Bachelors</td>\n",
       "      <td>13</td>\n",
       "      <td>Married-civ-spouse</td>\n",
       "      <td>Exec-managerial</td>\n",
       "      <td>Husband</td>\n",
       "      <td>White</td>\n",
       "      <td>Male</td>\n",
       "      <td>0</td>\n",
       "      <td>0</td>\n",
       "      <td>13</td>\n",
       "      <td>United-States</td>\n",
       "      <td>&lt;=50K</td>\n",
       "    </tr>\n",
       "    <tr>\n",
       "      <th>2</th>\n",
       "      <td>38</td>\n",
       "      <td>Private</td>\n",
       "      <td>215646</td>\n",
       "      <td>HS-grad</td>\n",
       "      <td>9</td>\n",
       "      <td>Divorced</td>\n",
       "      <td>Handlers-cleaners</td>\n",
       "      <td>Not-in-family</td>\n",
       "      <td>White</td>\n",
       "      <td>Male</td>\n",
       "      <td>0</td>\n",
       "      <td>0</td>\n",
       "      <td>40</td>\n",
       "      <td>United-States</td>\n",
       "      <td>&lt;=50K</td>\n",
       "    </tr>\n",
       "    <tr>\n",
       "      <th>3</th>\n",
       "      <td>53</td>\n",
       "      <td>Private</td>\n",
       "      <td>234721</td>\n",
       "      <td>11th</td>\n",
       "      <td>7</td>\n",
       "      <td>Married-civ-spouse</td>\n",
       "      <td>Handlers-cleaners</td>\n",
       "      <td>Husband</td>\n",
       "      <td>Black</td>\n",
       "      <td>Male</td>\n",
       "      <td>0</td>\n",
       "      <td>0</td>\n",
       "      <td>40</td>\n",
       "      <td>United-States</td>\n",
       "      <td>&lt;=50K</td>\n",
       "    </tr>\n",
       "    <tr>\n",
       "      <th>4</th>\n",
       "      <td>28</td>\n",
       "      <td>Private</td>\n",
       "      <td>338409</td>\n",
       "      <td>Bachelors</td>\n",
       "      <td>13</td>\n",
       "      <td>Married-civ-spouse</td>\n",
       "      <td>Prof-specialty</td>\n",
       "      <td>Wife</td>\n",
       "      <td>Black</td>\n",
       "      <td>Female</td>\n",
       "      <td>0</td>\n",
       "      <td>0</td>\n",
       "      <td>40</td>\n",
       "      <td>Cuba</td>\n",
       "      <td>&lt;=50K</td>\n",
       "    </tr>\n",
       "  </tbody>\n",
       "</table>\n",
       "</div>"
      ],
      "text/plain": [
       "   age      type_employer  fnlwgt   education  education_num  \\\n",
       "0   39          State-gov   77516   Bachelors             13   \n",
       "1   50   Self-emp-not-inc   83311   Bachelors             13   \n",
       "2   38            Private  215646     HS-grad              9   \n",
       "3   53            Private  234721        11th              7   \n",
       "4   28            Private  338409   Bachelors             13   \n",
       "\n",
       "               marital          occupation    relationship    race      sex  \\\n",
       "0        Never-married        Adm-clerical   Not-in-family   White     Male   \n",
       "1   Married-civ-spouse     Exec-managerial         Husband   White     Male   \n",
       "2             Divorced   Handlers-cleaners   Not-in-family   White     Male   \n",
       "3   Married-civ-spouse   Handlers-cleaners         Husband   Black     Male   \n",
       "4   Married-civ-spouse      Prof-specialty            Wife   Black   Female   \n",
       "\n",
       "   capital_gain  capital_loss  hr_per_week         country  income  \n",
       "0          2174             0           40   United-States   <=50K  \n",
       "1             0             0           13   United-States   <=50K  \n",
       "2             0             0           40   United-States   <=50K  \n",
       "3             0             0           40   United-States   <=50K  \n",
       "4             0             0           40            Cuba   <=50K  "
      ]
     },
     "execution_count": 2,
     "metadata": {},
     "output_type": "execute_result"
    }
   ],
   "source": [
    "url1 = 'https://archive.ics.uci.edu/ml/machine-learning-databases/adult/adult.data'\n",
    "url2 = 'https://archive.ics.uci.edu/ml/machine-learning-databases/adult/adult.names'\n",
    "cols = [\"age\", \"type_employer\", \"fnlwgt\", \"education\", \n",
    "                \"education_num\",\"marital\", \"occupation\", \"relationship\", \"race\",\"sex\",\n",
    "                \"capital_gain\", \"capital_loss\", \"hr_per_week\",\"country\", \"income\"]\n",
    "df = pd.read_csv(url1,sep = ',',names = cols)\n",
    "df.head()"
   ]
  },
  {
   "cell_type": "code",
   "execution_count": 53,
   "metadata": {},
   "outputs": [
    {
     "name": "stdout",
     "output_type": "stream",
     "text": [
      "<class 'pandas.core.frame.DataFrame'>\n",
      "RangeIndex: 32561 entries, 0 to 32560\n",
      "Data columns (total 15 columns):\n",
      "age              32561 non-null int64\n",
      "type_employer    32561 non-null object\n",
      "fnlwgt           32561 non-null int64\n",
      "education        32561 non-null object\n",
      "education_num    32561 non-null int64\n",
      "marital          32561 non-null object\n",
      "occupation       32561 non-null object\n",
      "relationship     32561 non-null object\n",
      "race             32561 non-null object\n",
      "sex              32561 non-null object\n",
      "capital_gain     32561 non-null int64\n",
      "capital_loss     32561 non-null int64\n",
      "hr_per_week      32561 non-null int64\n",
      "country          32561 non-null object\n",
      "income           32561 non-null object\n",
      "dtypes: int64(6), object(9)\n",
      "memory usage: 2.6+ MB\n"
     ]
    }
   ],
   "source": [
    "df.info()"
   ]
  },
  {
   "cell_type": "code",
   "execution_count": 11,
   "metadata": {},
   "outputs": [],
   "source": [
    "df.to_csv(\"adult.csv\")"
   ]
  },
  {
   "cell_type": "code",
   "execution_count": 3,
   "metadata": {},
   "outputs": [
    {
     "name": "stdout",
     "output_type": "stream",
     "text": [
      "Time elapsed: 1.6436333656311035 s.\n"
     ]
    }
   ],
   "source": [
    "def Load_Data(file_name):\n",
    "    data = genfromtxt(file_name, delimiter=',', skip_header=1, converters={0: lambda s: str(s)})\n",
    "    return data.tolist()\n",
    "\n",
    "Base = declarative_base()\n",
    "\n",
    "class adult_data(Base):\n",
    "    __tablename__ = 'adult'\n",
    "    __table_args__ = {'sqlite_autoincrement': True}\n",
    "    #tell SQLAlchemy the name of column and its attributes:\n",
    "    id = Column(Integer, primary_key=True, nullable=False) \n",
    "    age = Column(Integer)\n",
    "    type_employer = Column(String)\n",
    "    fnlwgt = Column(Integer)\n",
    "    education = Column(String)\n",
    "    sex = Column(String)\n",
    "    income = Column(String)\n",
    "\n",
    "if __name__ == \"__main__\":\n",
    "    t = time()\n",
    "\n",
    "    #Create the database\n",
    "    engine = create_engine('sqlite:///csv_test.db')\n",
    "    Base.metadata.create_all(engine)\n",
    "\n",
    "    #Create the session\n",
    "    session = sessionmaker()\n",
    "    session.configure(bind=engine)\n",
    "    s = session()\n",
    "\n",
    "    try:\n",
    "        file_name = \"adult.csv\" #sample CSV file used:  http://www.google.com/finance/historical?q=NYSE%3AT&ei=W4ikVam8LYWjmAGjhoHACw&output=csv\n",
    "        data = Load_Data(file_name) \n",
    "\n",
    "        for i in data:\n",
    "            record = adult(**{\n",
    "                'id': i[1],\n",
    "                'age' : i[2],\n",
    "                'type_employer' : i[3],\n",
    "                'fnlwgt' : i[4],\n",
    "                'education' : i[5],\n",
    "                'sex' : i[6],\n",
    "                'income':i[7]\n",
    "            })\n",
    "            s.add(record) #Add all the records\n",
    "\n",
    "        s.commit() #Attempt to commit all the records\n",
    "    except:\n",
    "        s.rollback() #Rollback the changes on error\n",
    "    finally:\n",
    "        s.close() #Close the connection\n",
    "    print (\"Time elapsed: \" + str(time() - t) + \" s.\") #0.091s"
   ]
  },
  {
   "cell_type": "code",
   "execution_count": 4,
   "metadata": {},
   "outputs": [],
   "source": [
    "from sqlalchemy import create_engine\n",
    "engine = create_engine('sqlite:///csv_test.db', echo=True)"
   ]
  },
  {
   "cell_type": "code",
   "execution_count": 5,
   "metadata": {},
   "outputs": [],
   "source": [
    "Base = declarative_base()"
   ]
  },
  {
   "cell_type": "code",
   "execution_count": 6,
   "metadata": {},
   "outputs": [],
   "source": [
    "class adult_test(Base):\n",
    "...     __tablename__ = 'adult'\n",
    "...     __table_args__ = {'extend_existing': True}\n",
    "...     id = Column(Integer, primary_key=True)\n",
    "...     age = Column(Integer)\n",
    "...     type_employer = Column(String)\n",
    "...     fnlwgt = Column(String(20))\n",
    "...     education = Column(String(20))\n",
    "...     sex = Column(String(20))\n",
    "...     income = Column(String(20))\n",
    "...\n",
    "...     def __repr__(self):\n",
    "...        return \"<adult_data(age='%d',fnlwgt='%d',education='%s',sex='%s',income='%s')>\" % (\n",
    "...                             self.age, self.fnlwgt, self.education, self.sex, self.income)"
   ]
  },
  {
   "cell_type": "code",
   "execution_count": 7,
   "metadata": {},
   "outputs": [
    {
     "data": {
      "text/plain": [
       "Table('adult', MetaData(bind=None), Column('id', Integer(), table=<adult>, primary_key=True, nullable=False), Column('age', Integer(), table=<adult>), Column('type_employer', String(), table=<adult>), Column('fnlwgt', Integer(), table=<adult>), Column('education', String(), table=<adult>), Column('sex', String(), table=<adult>), Column('income', String(), table=<adult>), schema=None)"
      ]
     },
     "execution_count": 7,
     "metadata": {},
     "output_type": "execute_result"
    }
   ],
   "source": [
    "adult_data.__table__"
   ]
  },
  {
   "cell_type": "code",
   "execution_count": 8,
   "metadata": {},
   "outputs": [
    {
     "data": {
      "text/plain": [
       "Table('adult', MetaData(bind=None), Column('id', Integer(), table=<adult>, primary_key=True, nullable=False), Column('age', Integer(), table=<adult>), Column('type_employer', String(), table=<adult>), Column('fnlwgt', String(length=20), table=<adult>), Column('education', String(length=20), table=<adult>), Column('sex', String(length=20), table=<adult>), Column('income', String(length=20), table=<adult>), schema=None)"
      ]
     },
     "execution_count": 8,
     "metadata": {},
     "output_type": "execute_result"
    }
   ],
   "source": [
    "adult_test.__table__"
   ]
  },
  {
   "cell_type": "code",
   "execution_count": 9,
   "metadata": {},
   "outputs": [],
   "source": [
    "Session = sessionmaker()\n",
    "Session.configure(bind=engine)\n",
    "session = Session()"
   ]
  },
  {
   "cell_type": "code",
   "execution_count": 10,
   "metadata": {},
   "outputs": [
    {
     "name": "stdout",
     "output_type": "stream",
     "text": [
      "2018-06-13 23:44:46,574 INFO sqlalchemy.engine.base.Engine SELECT CAST('test plain returns' AS VARCHAR(60)) AS anon_1\n",
      "2018-06-13 23:44:46,581 INFO sqlalchemy.engine.base.Engine ()\n",
      "2018-06-13 23:44:46,591 INFO sqlalchemy.engine.base.Engine SELECT CAST('test unicode returns' AS VARCHAR(60)) AS anon_1\n",
      "2018-06-13 23:44:46,596 INFO sqlalchemy.engine.base.Engine ()\n",
      "2018-06-13 23:44:46,602 INFO sqlalchemy.engine.base.Engine PRAGMA table_info(\"adult\")\n",
      "2018-06-13 23:44:46,609 INFO sqlalchemy.engine.base.Engine ()\n"
     ]
    }
   ],
   "source": [
    "Base.metadata.create_all(engine)"
   ]
  },
  {
   "cell_type": "code",
   "execution_count": 18,
   "metadata": {},
   "outputs": [],
   "source": [
    "ed_adult = adult_test(age=23, fnlwgt=71519, type_employer=' Private', education=' Bachelors',sex=' Male' , income=' >=50k')"
   ]
  },
  {
   "cell_type": "code",
   "execution_count": 19,
   "metadata": {},
   "outputs": [
    {
     "name": "stdout",
     "output_type": "stream",
     "text": [
      "<adult_data(age='23',fnlwgt='71519',education=' Bachelors',sex=' Male',income=' >=50k')>\n"
     ]
    }
   ],
   "source": [
    "print(ed_adult)"
   ]
  },
  {
   "cell_type": "code",
   "execution_count": 20,
   "metadata": {},
   "outputs": [
    {
     "name": "stdout",
     "output_type": "stream",
     "text": [
      "adult age 23\n",
      " adult fnlwgt 71519\n",
      " adult type_employer  Private\n",
      " adult education  Bachelors\n",
      " adult sex  Male\n",
      " adult income  >=50k\n"
     ]
    }
   ],
   "source": [
    "print(\"adult age {}\\n adult fnlwgt {}\\n adult type_employer {}\\n adult education {}\\n adult sex {}\\n adult income {}\". \n",
    "      format(ed_adult.age, ed_adult.fnlwgt, ed_adult.type_employer, ed_adult.education,ed_adult.sex, ed_adult.income))"
   ]
  },
  {
   "cell_type": "markdown",
   "metadata": {},
   "source": [
    "#### Add data"
   ]
  },
  {
   "cell_type": "code",
   "execution_count": 21,
   "metadata": {},
   "outputs": [],
   "source": [
    "session.add(ed_adult)"
   ]
  },
  {
   "cell_type": "code",
   "execution_count": 22,
   "metadata": {},
   "outputs": [
    {
     "name": "stdout",
     "output_type": "stream",
     "text": [
      "2018-06-13 23:46:11,333 INFO sqlalchemy.engine.base.Engine INSERT INTO adult (age, type_employer, fnlwgt, education, sex, income) VALUES (?, ?, ?, ?, ?, ?)\n",
      "2018-06-13 23:46:11,343 INFO sqlalchemy.engine.base.Engine (23, ' Private', 71519, ' Bachelors', ' Male', ' >=50k')\n",
      "2018-06-13 23:46:11,348 INFO sqlalchemy.engine.base.Engine SELECT adult.id AS adult_id, adult.age AS adult_age, adult.type_employer AS adult_type_employer, adult.fnlwgt AS adult_fnlwgt, adult.education AS adult_education, adult.sex AS adult_sex, adult.income AS adult_income \n",
      "FROM adult\n",
      "2018-06-13 23:46:11,350 INFO sqlalchemy.engine.base.Engine ()\n"
     ]
    }
   ],
   "source": [
    "our_cand = session.query(adult_data).all()"
   ]
  },
  {
   "cell_type": "code",
   "execution_count": 25,
   "metadata": {},
   "outputs": [
    {
     "name": "stdout",
     "output_type": "stream",
     "text": [
      "2018-06-13 23:46:46,262 INFO sqlalchemy.engine.base.Engine SELECT adult.id AS adult_id, adult.age AS adult_age, adult.type_employer AS adult_type_employer, adult.fnlwgt AS adult_fnlwgt, adult.education AS adult_education, adult.sex AS adult_sex, adult.income AS adult_income \n",
      "FROM adult \n",
      "WHERE adult.fnlwgt = ?\n",
      " LIMIT ? OFFSET ?\n",
      "2018-06-13 23:46:46,269 INFO sqlalchemy.engine.base.Engine (71519, 1, 0)\n"
     ]
    }
   ],
   "source": [
    "our_user = session.query(adult_data).filter_by(fnlwgt=71519).first() "
   ]
  },
  {
   "cell_type": "code",
   "execution_count": 39,
   "metadata": {},
   "outputs": [
    {
     "data": {
      "text/plain": [
       "<adult_data(age='39',fnlwgt='75165',education='Degree',sex='Female',income='>=50k')>"
      ]
     },
     "execution_count": 39,
     "metadata": {},
     "output_type": "execute_result"
    }
   ],
   "source": [
    "our_user"
   ]
  },
  {
   "cell_type": "code",
   "execution_count": 40,
   "metadata": {},
   "outputs": [
    {
     "data": {
      "text/plain": [
       "IdentitySet([])"
      ]
     },
     "execution_count": 40,
     "metadata": {},
     "output_type": "execute_result"
    }
   ],
   "source": [
    "session.dirty"
   ]
  },
  {
   "cell_type": "code",
   "execution_count": 41,
   "metadata": {},
   "outputs": [
    {
     "data": {
      "text/plain": [
       "IdentitySet([])"
      ]
     },
     "execution_count": 41,
     "metadata": {},
     "output_type": "execute_result"
    }
   ],
   "source": [
    "session.new"
   ]
  },
  {
   "cell_type": "code",
   "execution_count": 29,
   "metadata": {},
   "outputs": [],
   "source": [
    "session.add_all([\n",
    "...     adult_test(age=40, fnlwgt=74728, type_employer=' Private',education='Bachelors',sex='Male' , income='>=50k'),\n",
    "...     adult_test(age=39, fnlwgt=75165, type_employer=' Private',education='Degree',sex='Female' , income='>=50k')])"
   ]
  },
  {
   "cell_type": "code",
   "execution_count": 30,
   "metadata": {},
   "outputs": [
    {
     "name": "stdout",
     "output_type": "stream",
     "text": [
      "2018-06-13 23:48:39,139 INFO sqlalchemy.engine.base.Engine INSERT INTO adult (age, type_employer, fnlwgt, education, sex, income) VALUES (?, ?, ?, ?, ?, ?)\n",
      "2018-06-13 23:48:39,147 INFO sqlalchemy.engine.base.Engine (40, ' Private', 74728, 'Bachelors', 'Male', '>=50k')\n",
      "2018-06-13 23:48:39,152 INFO sqlalchemy.engine.base.Engine INSERT INTO adult (age, type_employer, fnlwgt, education, sex, income) VALUES (?, ?, ?, ?, ?, ?)\n",
      "2018-06-13 23:48:39,157 INFO sqlalchemy.engine.base.Engine (39, ' Private', 75165, 'Degree', 'Female', '>=50k')\n",
      "2018-06-13 23:48:39,164 INFO sqlalchemy.engine.base.Engine SELECT adult.id AS adult_id, adult.age AS adult_age, adult.type_employer AS adult_type_employer, adult.fnlwgt AS adult_fnlwgt, adult.education AS adult_education, adult.sex AS adult_sex, adult.income AS adult_income \n",
      "FROM adult \n",
      "WHERE adult.age = ?\n",
      " LIMIT ? OFFSET ?\n",
      "2018-06-13 23:48:39,169 INFO sqlalchemy.engine.base.Engine (39, 1, 0)\n"
     ]
    }
   ],
   "source": [
    "our_user = session.query(adult_test).filter_by(age=39).first() "
   ]
  },
  {
   "cell_type": "markdown",
   "metadata": {},
   "source": [
    "#### Filter data"
   ]
  },
  {
   "cell_type": "code",
   "execution_count": 32,
   "metadata": {},
   "outputs": [
    {
     "name": "stdout",
     "output_type": "stream",
     "text": [
      "2018-06-13 23:49:04,641 INFO sqlalchemy.engine.base.Engine SELECT adult.id AS adult_id, adult.age AS adult_age, adult.type_employer AS adult_type_employer, adult.fnlwgt AS adult_fnlwgt, adult.education AS adult_education, adult.sex AS adult_sex, adult.income AS adult_income \n",
      "FROM adult \n",
      "WHERE adult.age NOT IN (?, ?)\n",
      "2018-06-13 23:49:04,651 INFO sqlalchemy.engine.base.Engine (39, 40)\n",
      "<adult_data(age='23',fnlwgt='77516',education=' Bachelors',sex=' Male',income=' >=50k')>\n",
      "<adult_data(age='23',fnlwgt='71519',education=' Bachelors',sex=' Male',income=' >=50k')>\n"
     ]
    }
   ],
   "source": [
    "for user in session.query(adult_test).filter(~adult_test.age.in_([39, 40])):\n",
    "    print(user)"
   ]
  },
  {
   "cell_type": "code",
   "execution_count": 35,
   "metadata": {},
   "outputs": [
    {
     "data": {
      "text/plain": [
       "IdentitySet([])"
      ]
     },
     "execution_count": 35,
     "metadata": {},
     "output_type": "execute_result"
    }
   ],
   "source": [
    "session.new"
   ]
  },
  {
   "cell_type": "code",
   "execution_count": 34,
   "metadata": {},
   "outputs": [
    {
     "name": "stdout",
     "output_type": "stream",
     "text": [
      "2018-06-13 23:51:13,193 INFO sqlalchemy.engine.base.Engine COMMIT\n"
     ]
    }
   ],
   "source": [
    "session.commit()"
   ]
  },
  {
   "cell_type": "code",
   "execution_count": 37,
   "metadata": {},
   "outputs": [
    {
     "name": "stdout",
     "output_type": "stream",
     "text": [
      "2018-06-13 23:51:52,605 INFO sqlalchemy.engine.base.Engine BEGIN (implicit)\n",
      "2018-06-13 23:51:52,610 INFO sqlalchemy.engine.base.Engine SELECT adult.id AS adult_id, adult.age AS adult_age, adult.type_employer AS adult_type_employer, adult.fnlwgt AS adult_fnlwgt, adult.education AS adult_education, adult.sex AS adult_sex, adult.income AS adult_income \n",
      "FROM adult \n",
      "WHERE adult.age = ?\n",
      " LIMIT ? OFFSET ?\n",
      "2018-06-13 23:51:52,612 INFO sqlalchemy.engine.base.Engine (39, 1, 0)\n"
     ]
    }
   ],
   "source": [
    "our_user1 = session.query(adult_test).filter_by(age=39).first() "
   ]
  },
  {
   "cell_type": "code",
   "execution_count": 38,
   "metadata": {},
   "outputs": [
    {
     "data": {
      "text/plain": [
       "<adult_data(age='39',fnlwgt='75165',education='Degree',sex='Female',income='>=50k')>"
      ]
     },
     "execution_count": 38,
     "metadata": {},
     "output_type": "execute_result"
    }
   ],
   "source": [
    "our_user1"
   ]
  },
  {
   "cell_type": "markdown",
   "metadata": {},
   "source": [
    "#### Delete Rows"
   ]
  },
  {
   "cell_type": "code",
   "execution_count": 42,
   "metadata": {},
   "outputs": [
    {
     "name": "stdout",
     "output_type": "stream",
     "text": [
      "2018-06-13 23:53:17,051 INFO sqlalchemy.engine.base.Engine SELECT adult.id AS adult_id, adult.age AS adult_age, adult.type_employer AS adult_type_employer, adult.fnlwgt AS adult_fnlwgt, adult.education AS adult_education, adult.sex AS adult_sex, adult.income AS adult_income \n",
      "FROM adult \n",
      "WHERE adult.age = ?\n",
      "2018-06-13 23:53:17,059 INFO sqlalchemy.engine.base.Engine (39,)\n",
      "2018-06-13 23:53:17,066 INFO sqlalchemy.engine.base.Engine DELETE FROM adult WHERE adult.id = ?\n",
      "2018-06-13 23:53:17,069 INFO sqlalchemy.engine.base.Engine (4,)\n",
      "2018-06-13 23:53:17,079 INFO sqlalchemy.engine.base.Engine COMMIT\n"
     ]
    }
   ],
   "source": [
    "q = session.query(adult_test).filter_by(age=39).one()\n",
    "if q != []:\n",
    "    session.delete(q)\n",
    "    session.commit()"
   ]
  },
  {
   "cell_type": "code",
   "execution_count": 43,
   "metadata": {},
   "outputs": [
    {
     "name": "stdout",
     "output_type": "stream",
     "text": [
      "2018-06-13 23:53:57,139 INFO sqlalchemy.engine.base.Engine BEGIN (implicit)\n",
      "2018-06-13 23:53:57,144 INFO sqlalchemy.engine.base.Engine SELECT adult.id AS adult_id, adult.age AS adult_age, adult.type_employer AS adult_type_employer, adult.fnlwgt AS adult_fnlwgt, adult.education AS adult_education, adult.sex AS adult_sex, adult.income AS adult_income \n",
      "FROM adult \n",
      "WHERE adult.age = ?\n",
      "2018-06-13 23:53:57,147 INFO sqlalchemy.engine.base.Engine (40,)\n",
      "2018-06-13 23:53:57,154 INFO sqlalchemy.engine.base.Engine DELETE FROM adult WHERE adult.id = ?\n",
      "2018-06-13 23:53:57,159 INFO sqlalchemy.engine.base.Engine (3,)\n",
      "2018-06-13 23:53:57,165 INFO sqlalchemy.engine.base.Engine COMMIT\n"
     ]
    }
   ],
   "source": [
    "q = session.query(adult_test).filter_by(age=40).one()\n",
    "if q != []:\n",
    "    session.delete(q)\n",
    "    session.commit()"
   ]
  },
  {
   "cell_type": "code",
   "execution_count": 44,
   "metadata": {},
   "outputs": [
    {
     "name": "stdout",
     "output_type": "stream",
     "text": [
      "2018-06-13 23:56:09,429 INFO sqlalchemy.engine.base.Engine BEGIN (implicit)\n",
      "2018-06-13 23:56:09,434 INFO sqlalchemy.engine.base.Engine SELECT adult.id AS adult_id, adult.age AS adult_age, adult.type_employer AS adult_type_employer, adult.fnlwgt AS adult_fnlwgt, adult.education AS adult_education, adult.sex AS adult_sex, adult.income AS adult_income \n",
      "FROM adult ORDER BY adult.id\n",
      "2018-06-13 23:56:09,437 INFO sqlalchemy.engine.base.Engine ()\n",
      "23 77516\n",
      "23 71519\n"
     ]
    }
   ],
   "source": [
    "for instance in session.query(adult_test).order_by(adult_test.id):\n",
    "     print(instance.age, instance.fnlwgt)"
   ]
  },
  {
   "cell_type": "markdown",
   "metadata": {},
   "source": [
    "#### Add function"
   ]
  },
  {
   "cell_type": "code",
   "execution_count": 46,
   "metadata": {},
   "outputs": [
    {
     "name": "stdout",
     "output_type": "stream",
     "text": [
      "2018-06-13 23:58:11,939 INFO sqlalchemy.engine.base.Engine SELECT count(?) AS count_1 \n",
      "FROM adult\n",
      "2018-06-13 23:58:11,946 INFO sqlalchemy.engine.base.Engine ('*',)\n"
     ]
    },
    {
     "data": {
      "text/plain": [
       "2"
      ]
     },
     "execution_count": 46,
     "metadata": {},
     "output_type": "execute_result"
    }
   ],
   "source": [
    "from sqlalchemy import func\n",
    "session.query(func.count('*')).select_from(adult_test).scalar()"
   ]
  },
  {
   "cell_type": "code",
   "execution_count": null,
   "metadata": {},
   "outputs": [],
   "source": []
  }
 ],
 "metadata": {
  "kernelspec": {
   "display_name": "Python 3",
   "language": "python",
   "name": "python3"
  },
  "language_info": {
   "codemirror_mode": {
    "name": "ipython",
    "version": 3
   },
   "file_extension": ".py",
   "mimetype": "text/x-python",
   "name": "python",
   "nbconvert_exporter": "python",
   "pygments_lexer": "ipython3",
   "version": "3.6.5"
  }
 },
 "nbformat": 4,
 "nbformat_minor": 2
}
