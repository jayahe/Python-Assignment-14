{
 "cells": [
  {
   "cell_type": "markdown",
   "metadata": {},
   "source": [
    "### SQL Assignment - sqlalchemy"
   ]
  },
  {
   "cell_type": "markdown",
   "metadata": {},
   "source": [
    "#### Problem Statement:\n",
    "\n",
    "Read the following data set:\n",
    "https://archive.ics.uci.edu/ml/machine-learning-databases/adult/adult.data\n",
    "\n",
    "Task:\n",
    "1. Create an sqlalchemy engine using a sample from the data set\n",
    "2. Write two basic update queries\n",
    "3. Write two delete queries\n",
    "4. Write two filter queries\n",
    "5. Write two function queries"
   ]
  },
  {
   "cell_type": "code",
   "execution_count": 88,
   "metadata": {},
   "outputs": [],
   "source": [
    "import pandas as pd\n",
    "from numpy import genfromtxt\n",
    "from time import time\n",
    "from datetime import datetime\n",
    "from sqlalchemy import Column, Integer, Float, Date, String, MetaData\n",
    "from sqlalchemy.ext.declarative import declarative_base\n",
    "from sqlalchemy import create_engine\n",
    "from sqlalchemy.orm import sessionmaker"
   ]
  },
  {
   "cell_type": "code",
   "execution_count": 4,
   "metadata": {},
   "outputs": [
    {
     "data": {
      "text/html": [
       "<div>\n",
       "<style scoped>\n",
       "    .dataframe tbody tr th:only-of-type {\n",
       "        vertical-align: middle;\n",
       "    }\n",
       "\n",
       "    .dataframe tbody tr th {\n",
       "        vertical-align: top;\n",
       "    }\n",
       "\n",
       "    .dataframe thead th {\n",
       "        text-align: right;\n",
       "    }\n",
       "</style>\n",
       "<table border=\"1\" class=\"dataframe\">\n",
       "  <thead>\n",
       "    <tr style=\"text-align: right;\">\n",
       "      <th></th>\n",
       "      <th>age</th>\n",
       "      <th>type_employer</th>\n",
       "      <th>fnlwgt</th>\n",
       "      <th>education</th>\n",
       "      <th>education_num</th>\n",
       "      <th>marital</th>\n",
       "      <th>occupation</th>\n",
       "      <th>relationship</th>\n",
       "      <th>race</th>\n",
       "      <th>sex</th>\n",
       "      <th>capital_gain</th>\n",
       "      <th>capital_loss</th>\n",
       "      <th>hr_per_week</th>\n",
       "      <th>country</th>\n",
       "      <th>income</th>\n",
       "    </tr>\n",
       "  </thead>\n",
       "  <tbody>\n",
       "    <tr>\n",
       "      <th>0</th>\n",
       "      <td>39</td>\n",
       "      <td>State-gov</td>\n",
       "      <td>77516</td>\n",
       "      <td>Bachelors</td>\n",
       "      <td>13</td>\n",
       "      <td>Never-married</td>\n",
       "      <td>Adm-clerical</td>\n",
       "      <td>Not-in-family</td>\n",
       "      <td>White</td>\n",
       "      <td>Male</td>\n",
       "      <td>2174</td>\n",
       "      <td>0</td>\n",
       "      <td>40</td>\n",
       "      <td>United-States</td>\n",
       "      <td>&lt;=50K</td>\n",
       "    </tr>\n",
       "    <tr>\n",
       "      <th>1</th>\n",
       "      <td>50</td>\n",
       "      <td>Self-emp-not-inc</td>\n",
       "      <td>83311</td>\n",
       "      <td>Bachelors</td>\n",
       "      <td>13</td>\n",
       "      <td>Married-civ-spouse</td>\n",
       "      <td>Exec-managerial</td>\n",
       "      <td>Husband</td>\n",
       "      <td>White</td>\n",
       "      <td>Male</td>\n",
       "      <td>0</td>\n",
       "      <td>0</td>\n",
       "      <td>13</td>\n",
       "      <td>United-States</td>\n",
       "      <td>&lt;=50K</td>\n",
       "    </tr>\n",
       "    <tr>\n",
       "      <th>2</th>\n",
       "      <td>38</td>\n",
       "      <td>Private</td>\n",
       "      <td>215646</td>\n",
       "      <td>HS-grad</td>\n",
       "      <td>9</td>\n",
       "      <td>Divorced</td>\n",
       "      <td>Handlers-cleaners</td>\n",
       "      <td>Not-in-family</td>\n",
       "      <td>White</td>\n",
       "      <td>Male</td>\n",
       "      <td>0</td>\n",
       "      <td>0</td>\n",
       "      <td>40</td>\n",
       "      <td>United-States</td>\n",
       "      <td>&lt;=50K</td>\n",
       "    </tr>\n",
       "    <tr>\n",
       "      <th>3</th>\n",
       "      <td>53</td>\n",
       "      <td>Private</td>\n",
       "      <td>234721</td>\n",
       "      <td>11th</td>\n",
       "      <td>7</td>\n",
       "      <td>Married-civ-spouse</td>\n",
       "      <td>Handlers-cleaners</td>\n",
       "      <td>Husband</td>\n",
       "      <td>Black</td>\n",
       "      <td>Male</td>\n",
       "      <td>0</td>\n",
       "      <td>0</td>\n",
       "      <td>40</td>\n",
       "      <td>United-States</td>\n",
       "      <td>&lt;=50K</td>\n",
       "    </tr>\n",
       "    <tr>\n",
       "      <th>4</th>\n",
       "      <td>28</td>\n",
       "      <td>Private</td>\n",
       "      <td>338409</td>\n",
       "      <td>Bachelors</td>\n",
       "      <td>13</td>\n",
       "      <td>Married-civ-spouse</td>\n",
       "      <td>Prof-specialty</td>\n",
       "      <td>Wife</td>\n",
       "      <td>Black</td>\n",
       "      <td>Female</td>\n",
       "      <td>0</td>\n",
       "      <td>0</td>\n",
       "      <td>40</td>\n",
       "      <td>Cuba</td>\n",
       "      <td>&lt;=50K</td>\n",
       "    </tr>\n",
       "  </tbody>\n",
       "</table>\n",
       "</div>"
      ],
      "text/plain": [
       "   age      type_employer  fnlwgt   education  education_num  \\\n",
       "0   39          State-gov   77516   Bachelors             13   \n",
       "1   50   Self-emp-not-inc   83311   Bachelors             13   \n",
       "2   38            Private  215646     HS-grad              9   \n",
       "3   53            Private  234721        11th              7   \n",
       "4   28            Private  338409   Bachelors             13   \n",
       "\n",
       "               marital          occupation    relationship    race      sex  \\\n",
       "0        Never-married        Adm-clerical   Not-in-family   White     Male   \n",
       "1   Married-civ-spouse     Exec-managerial         Husband   White     Male   \n",
       "2             Divorced   Handlers-cleaners   Not-in-family   White     Male   \n",
       "3   Married-civ-spouse   Handlers-cleaners         Husband   Black     Male   \n",
       "4   Married-civ-spouse      Prof-specialty            Wife   Black   Female   \n",
       "\n",
       "   capital_gain  capital_loss  hr_per_week         country  income  \n",
       "0          2174             0           40   United-States   <=50K  \n",
       "1             0             0           13   United-States   <=50K  \n",
       "2             0             0           40   United-States   <=50K  \n",
       "3             0             0           40   United-States   <=50K  \n",
       "4             0             0           40            Cuba   <=50K  "
      ]
     },
     "execution_count": 4,
     "metadata": {},
     "output_type": "execute_result"
    }
   ],
   "source": [
    "url1 = 'https://archive.ics.uci.edu/ml/machine-learning-databases/adult/adult.data'\n",
    "url2 = 'https://archive.ics.uci.edu/ml/machine-learning-databases/adult/adult.names'\n",
    "cols = [\"age\", \"type_employer\", \"fnlwgt\", \"education\", \n",
    "                \"education_num\",\"marital\", \"occupation\", \"relationship\", \"race\",\"sex\",\n",
    "                \"capital_gain\", \"capital_loss\", \"hr_per_week\",\"country\", \"income\"]\n",
    "df = pd.read_csv(url1,sep = ',',names = cols)\n",
    "df.head()"
   ]
  },
  {
   "cell_type": "code",
   "execution_count": 5,
   "metadata": {},
   "outputs": [
    {
     "name": "stdout",
     "output_type": "stream",
     "text": [
      "<class 'pandas.core.frame.DataFrame'>\n",
      "RangeIndex: 32561 entries, 0 to 32560\n",
      "Data columns (total 15 columns):\n",
      "age              32561 non-null int64\n",
      "type_employer    32561 non-null object\n",
      "fnlwgt           32561 non-null int64\n",
      "education        32561 non-null object\n",
      "education_num    32561 non-null int64\n",
      "marital          32561 non-null object\n",
      "occupation       32561 non-null object\n",
      "relationship     32561 non-null object\n",
      "race             32561 non-null object\n",
      "sex              32561 non-null object\n",
      "capital_gain     32561 non-null int64\n",
      "capital_loss     32561 non-null int64\n",
      "hr_per_week      32561 non-null int64\n",
      "country          32561 non-null object\n",
      "income           32561 non-null object\n",
      "dtypes: int64(6), object(9)\n",
      "memory usage: 2.6+ MB\n"
     ]
    }
   ],
   "source": [
    "df.info()"
   ]
  },
  {
   "cell_type": "code",
   "execution_count": 11,
   "metadata": {},
   "outputs": [],
   "source": [
    "df.to_csv(\"adult.csv\")"
   ]
  },
  {
   "cell_type": "code",
   "execution_count": 89,
   "metadata": {},
   "outputs": [],
   "source": [
    "from sqlalchemy import create_engine\n",
    "\n",
    "engine = create_engine('sqlite:///adult.db', echo=True)"
   ]
  },
  {
   "cell_type": "code",
   "execution_count": 90,
   "metadata": {},
   "outputs": [],
   "source": [
    "Base = declarative_base()"
   ]
  },
  {
   "cell_type": "code",
   "execution_count": 91,
   "metadata": {},
   "outputs": [],
   "source": [
    "class adult(Base):\n",
    "...     __tablename__ = 'adult_data'\n",
    "...\n",
    "...     id = Column(Integer, primary_key=True)\n",
    "...     age = Column(Integer)\n",
    "...     \n",
    "...     fnlwgt = Column(String(20))\n",
    "...     education = Column(String(20))\n",
    "...     sex = Column(String(20))\n",
    "...     income = Column(String(20))\n",
    "...\n",
    "...     def __repr__(self):\n",
    "...        return \"<adult_data(age='%d', education='%s',fnlwgt='%d',sex='%s',income='%s')>\" % (\n",
    "...                             self.age, self.education, self.fnlwgt, self.sex, self.income)"
   ]
  },
  {
   "cell_type": "code",
   "execution_count": 92,
   "metadata": {},
   "outputs": [],
   "source": [
    "Session = sessionmaker()\n",
    "Session.configure(bind=engine)\n",
    "session = Session()"
   ]
  },
  {
   "cell_type": "code",
   "execution_count": 93,
   "metadata": {},
   "outputs": [
    {
     "name": "stdout",
     "output_type": "stream",
     "text": [
      "2018-06-13 15:00:58,617 INFO sqlalchemy.engine.base.Engine SELECT CAST('test plain returns' AS VARCHAR(60)) AS anon_1\n",
      "2018-06-13 15:00:58,626 INFO sqlalchemy.engine.base.Engine ()\n",
      "2018-06-13 15:00:58,631 INFO sqlalchemy.engine.base.Engine SELECT CAST('test unicode returns' AS VARCHAR(60)) AS anon_1\n",
      "2018-06-13 15:00:58,634 INFO sqlalchemy.engine.base.Engine ()\n",
      "2018-06-13 15:00:58,638 INFO sqlalchemy.engine.base.Engine PRAGMA table_info(\"adult_data\")\n",
      "2018-06-13 15:00:58,640 INFO sqlalchemy.engine.base.Engine ()\n"
     ]
    }
   ],
   "source": [
    "Base.metadata.create_all(engine)"
   ]
  },
  {
   "cell_type": "code",
   "execution_count": 94,
   "metadata": {},
   "outputs": [
    {
     "data": {
      "text/plain": [
       "Table('adult_data', MetaData(bind=None), Column('id', Integer(), table=<adult_data>, primary_key=True, nullable=False), Column('age', Integer(), table=<adult_data>), Column('fnlwgt', String(length=20), table=<adult_data>), Column('education', String(length=20), table=<adult_data>), Column('sex', String(length=20), table=<adult_data>), Column('income', String(length=20), table=<adult_data>), schema=None)"
      ]
     },
     "execution_count": 94,
     "metadata": {},
     "output_type": "execute_result"
    }
   ],
   "source": [
    "adult.__table__"
   ]
  },
  {
   "cell_type": "code",
   "execution_count": 95,
   "metadata": {},
   "outputs": [],
   "source": [
    "ed_adult = adult(age=23, fnlwgt=77516, education='Bachelors',sex='Male' , income='<=50k')"
   ]
  },
  {
   "cell_type": "code",
   "execution_count": 96,
   "metadata": {},
   "outputs": [
    {
     "name": "stdout",
     "output_type": "stream",
     "text": [
      "<adult_data(age='23', education='Bachelors',fnlwgt='77516',sex='Male',income='<=50k')>\n"
     ]
    }
   ],
   "source": [
    "print(ed_adult)"
   ]
  },
  {
   "cell_type": "code",
   "execution_count": 97,
   "metadata": {},
   "outputs": [],
   "source": [
    "session.add(ed_adult)"
   ]
  },
  {
   "cell_type": "code",
   "execution_count": 98,
   "metadata": {},
   "outputs": [
    {
     "name": "stdout",
     "output_type": "stream",
     "text": [
      "2018-06-13 15:01:14,937 INFO sqlalchemy.engine.base.Engine BEGIN (implicit)\n",
      "2018-06-13 15:01:14,942 INFO sqlalchemy.engine.base.Engine INSERT INTO adult_data (age, fnlwgt, education, sex, income) VALUES (?, ?, ?, ?, ?)\n",
      "2018-06-13 15:01:14,944 INFO sqlalchemy.engine.base.Engine (23, 77516, 'Bachelors', 'Male', '<=50k')\n",
      "2018-06-13 15:01:14,955 INFO sqlalchemy.engine.base.Engine SELECT adult_data.id AS adult_data_id, adult_data.age AS adult_data_age, adult_data.fnlwgt AS adult_data_fnlwgt, adult_data.education AS adult_data_education, adult_data.sex AS adult_data_sex, adult_data.income AS adult_data_income \n",
      "FROM adult_data\n",
      " LIMIT ? OFFSET ?\n",
      "2018-06-13 15:01:14,958 INFO sqlalchemy.engine.base.Engine (1, 0)\n"
     ]
    }
   ],
   "source": [
    "our_cand = session.query(adult).first()"
   ]
  },
  {
   "cell_type": "code",
   "execution_count": 99,
   "metadata": {},
   "outputs": [
    {
     "data": {
      "text/plain": [
       "<adult_data(age='23', education='Bachelors',fnlwgt='77516',sex='Male',income='<=50k')>"
      ]
     },
     "execution_count": 99,
     "metadata": {},
     "output_type": "execute_result"
    }
   ],
   "source": [
    "our_cand"
   ]
  },
  {
   "cell_type": "code",
   "execution_count": 104,
   "metadata": {},
   "outputs": [],
   "source": [
    "session.add_all([\n",
    "...     adult(age=40, fnlwgt=74728, education='Bachelors',sex='Male' , income='>=50k'),\n",
    "...     adult(age=39, fnlwgt=75165, education='Degree',sex='Female' , income='>=50k')])"
   ]
  },
  {
   "cell_type": "code",
   "execution_count": 105,
   "metadata": {},
   "outputs": [
    {
     "name": "stdout",
     "output_type": "stream",
     "text": [
      "2018-06-13 15:08:38,188 INFO sqlalchemy.engine.base.Engine INSERT INTO adult_data (age, fnlwgt, education, sex, income) VALUES (?, ?, ?, ?, ?)\n",
      "2018-06-13 15:08:38,273 INFO sqlalchemy.engine.base.Engine (23, 77516, 'Bachelors', 'Male', '<=50k')\n",
      "2018-06-13 15:08:38,279 INFO sqlalchemy.engine.base.Engine INSERT INTO adult_data (age, fnlwgt, education, sex, income) VALUES (?, ?, ?, ?, ?)\n",
      "2018-06-13 15:08:38,285 INFO sqlalchemy.engine.base.Engine (39, 75165, 'Degree', 'Female', '>=50k')\n",
      "2018-06-13 15:08:38,290 INFO sqlalchemy.engine.base.Engine INSERT INTO adult_data (age, fnlwgt, education, sex, income) VALUES (?, ?, ?, ?, ?)\n",
      "2018-06-13 15:08:38,295 INFO sqlalchemy.engine.base.Engine (40, 74728, 'Bachelors', 'Male', '>=50k')\n",
      "2018-06-13 15:08:38,301 INFO sqlalchemy.engine.base.Engine INSERT INTO adult_data (age, fnlwgt, education, sex, income) VALUES (?, ?, ?, ?, ?)\n",
      "2018-06-13 15:08:38,306 INFO sqlalchemy.engine.base.Engine (39, 75165, 'Degree', 'Female', '>=50k')\n",
      "2018-06-13 15:08:38,311 INFO sqlalchemy.engine.base.Engine INSERT INTO adult_data (age, fnlwgt, education, sex, income) VALUES (?, ?, ?, ?, ?)\n",
      "2018-06-13 15:08:38,316 INFO sqlalchemy.engine.base.Engine (40, 74728, 'Bachelors', 'Male', '>=50k')\n",
      "2018-06-13 15:08:38,346 INFO sqlalchemy.engine.base.Engine INSERT INTO adult_data (age, fnlwgt, education, sex, income) VALUES (?, ?, ?, ?, ?)\n",
      "2018-06-13 15:08:38,380 INFO sqlalchemy.engine.base.Engine (39, 75165, 'Degree', 'Female', '>=50k')\n",
      "2018-06-13 15:08:38,387 INFO sqlalchemy.engine.base.Engine SELECT adult_data.id AS adult_data_id, adult_data.age AS adult_data_age, adult_data.fnlwgt AS adult_data_fnlwgt, adult_data.education AS adult_data_education, adult_data.sex AS adult_data_sex, adult_data.income AS adult_data_income \n",
      "FROM adult_data \n",
      "WHERE adult_data.age = ?\n",
      " LIMIT ? OFFSET ?\n",
      "2018-06-13 15:08:38,397 INFO sqlalchemy.engine.base.Engine (39, 1, 0)\n"
     ]
    }
   ],
   "source": [
    "our_user = session.query(adult).filter_by(age=39).first() "
   ]
  },
  {
   "cell_type": "code",
   "execution_count": 109,
   "metadata": {},
   "outputs": [
    {
     "name": "stdout",
     "output_type": "stream",
     "text": [
      "2018-06-13 15:14:12,246 INFO sqlalchemy.engine.base.Engine SELECT adult_data.id AS adult_data_id, adult_data.age AS adult_data_age, adult_data.fnlwgt AS adult_data_fnlwgt, adult_data.education AS adult_data_education, adult_data.sex AS adult_data_sex, adult_data.income AS adult_data_income \n",
      "FROM adult_data \n",
      "WHERE adult_data.age NOT IN (?, ?)\n",
      "2018-06-13 15:14:12,252 INFO sqlalchemy.engine.base.Engine (39, 40)\n",
      "<adult_data(age='23', education='Bachelors',fnlwgt='77516',sex='Male',income='<=50k')>\n"
     ]
    },
    {
     "ename": "TypeError",
     "evalue": "%d format: a number is required, not str",
     "output_type": "error",
     "traceback": [
      "\u001b[1;31m---------------------------------------------------------------------------\u001b[0m",
      "\u001b[1;31mTypeError\u001b[0m                                 Traceback (most recent call last)",
      "\u001b[1;32m<ipython-input-109-6f10387c1abb>\u001b[0m in \u001b[0;36m<module>\u001b[1;34m()\u001b[0m\n\u001b[0;32m      1\u001b[0m \u001b[1;32mfor\u001b[0m \u001b[0muser\u001b[0m \u001b[1;32min\u001b[0m \u001b[0msession\u001b[0m\u001b[1;33m.\u001b[0m\u001b[0mquery\u001b[0m\u001b[1;33m(\u001b[0m\u001b[0madult\u001b[0m\u001b[1;33m)\u001b[0m\u001b[1;33m.\u001b[0m\u001b[0mfilter\u001b[0m\u001b[1;33m(\u001b[0m\u001b[1;33m~\u001b[0m\u001b[0madult\u001b[0m\u001b[1;33m.\u001b[0m\u001b[0mage\u001b[0m\u001b[1;33m.\u001b[0m\u001b[0min_\u001b[0m\u001b[1;33m(\u001b[0m\u001b[1;33m[\u001b[0m\u001b[1;36m39\u001b[0m\u001b[1;33m,\u001b[0m \u001b[1;36m40\u001b[0m\u001b[1;33m]\u001b[0m\u001b[1;33m)\u001b[0m\u001b[1;33m)\u001b[0m\u001b[1;33m:\u001b[0m\u001b[1;33m\u001b[0m\u001b[0m\n\u001b[1;32m----> 2\u001b[1;33m     \u001b[0mprint\u001b[0m\u001b[1;33m(\u001b[0m\u001b[0muser\u001b[0m\u001b[1;33m)\u001b[0m\u001b[1;33m\u001b[0m\u001b[0m\n\u001b[0m",
      "\u001b[1;32m<ipython-input-91-f5578c62ac5d>\u001b[0m in \u001b[0;36m__repr__\u001b[1;34m(self)\u001b[0m\n\u001b[0;32m     12\u001b[0m     \u001b[1;32mdef\u001b[0m \u001b[0m__repr__\u001b[0m\u001b[1;33m(\u001b[0m\u001b[0mself\u001b[0m\u001b[1;33m)\u001b[0m\u001b[1;33m:\u001b[0m\u001b[1;33m\u001b[0m\u001b[0m\n\u001b[0;32m     13\u001b[0m        return \"<adult_data(age='%d', education='%s',fnlwgt='%d',sex='%s',income='%s')>\" % (\n\u001b[1;32m---> 14\u001b[1;33m                             self.age, self.education,self.fnlwgt,self.sex,self.income)\n\u001b[0m",
      "\u001b[1;31mTypeError\u001b[0m: %d format: a number is required, not str"
     ]
    }
   ],
   "source": [
    "for user in session.query(adult).filter(~adult.age.in_([39, 40])):\n",
    "    print(user)"
   ]
  },
  {
   "cell_type": "code",
   "execution_count": 34,
   "metadata": {},
   "outputs": [
    {
     "name": "stdout",
     "output_type": "stream",
     "text": [
      "Time elapsed: 1.8291831016540527 s.\n"
     ]
    }
   ],
   "source": [
    "def Load_Data(file_name):\n",
    "    data = genfromtxt(file_name, delimiter=',', skip_header=1, converters={0: lambda s: str(s)})\n",
    "    return data.tolist()\n",
    "\n",
    "Base = declarative_base()\n",
    "\n",
    "class adult_data(Base):\n",
    "    __tablename__ = 'adult'\n",
    "    __table_args__ = {'sqlite_autoincrement': True}\n",
    "    #tell SQLAlchemy the name of column and its attributes:\n",
    "    id = Column(Integer, primary_key=True, nullable=False) \n",
    "    age = Column(Integer)\n",
    "    type_employer = Column(String)\n",
    "    fnlwgt = Column(Integer)\n",
    "    education = Column(String)\n",
    "    sex = Column(String)\n",
    "    income = Column(String)\n",
    "\n",
    "if __name__ == \"__main__\":\n",
    "    t = time()\n",
    "\n",
    "    #Create the database\n",
    "    engine = create_engine('sqlite:///csv_test.db')\n",
    "    Base.metadata.create_all(engine)\n",
    "\n",
    "    #Create the session\n",
    "    session = sessionmaker()\n",
    "    session.configure(bind=engine)\n",
    "    s = session()\n",
    "\n",
    "    try:\n",
    "        file_name = \"adult.csv\" #sample CSV file used:  http://www.google.com/finance/historical?q=NYSE%3AT&ei=W4ikVam8LYWjmAGjhoHACw&output=csv\n",
    "        data = Load_Data(file_name) \n",
    "\n",
    "        for i in data:\n",
    "            record = adult(**{\n",
    "                'id': i[1],\n",
    "                'age' : i[2],\n",
    "                'type_employer' : i[3],\n",
    "                'fnlwgt' : i[4],\n",
    "                'education' : i[5],\n",
    "                'sex' : i[6],\n",
    "                'income':i[7]\n",
    "            })\n",
    "            s.add(record) #Add all the records\n",
    "\n",
    "        s.commit() #Attempt to commit all the records\n",
    "    except:\n",
    "        s.rollback() #Rollback the changes on error\n",
    "    finally:\n",
    "        s.close() #Close the connection\n",
    "    print (\"Time elapsed: \" + str(time() - t) + \" s.\") #0.091s"
   ]
  },
  {
   "cell_type": "code",
   "execution_count": 110,
   "metadata": {},
   "outputs": [
    {
     "name": "stdout",
     "output_type": "stream",
     "text": [
      "2018-06-13 15:16:24,322 INFO sqlalchemy.engine.base.Engine SELECT adult_data.id AS adult_data_id, adult_data.age AS adult_data_age, adult_data.fnlwgt AS adult_data_fnlwgt, adult_data.education AS adult_data_education, adult_data.sex AS adult_data_sex, adult_data.income AS adult_data_income \n",
      "FROM adult_data \n",
      "WHERE adult_data.age = ?\n",
      " LIMIT ? OFFSET ?\n",
      "2018-06-13 15:16:24,325 INFO sqlalchemy.engine.base.Engine (39, 1, 0)\n"
     ]
    }
   ],
   "source": [
    "our_user = session.query(adult).filter_by(age=39).first() "
   ]
  },
  {
   "cell_type": "code",
   "execution_count": null,
   "metadata": {},
   "outputs": [],
   "source": [
    "our_user"
   ]
  },
  {
   "cell_type": "code",
   "execution_count": null,
   "metadata": {},
   "outputs": [],
   "source": []
  }
 ],
 "metadata": {
  "kernelspec": {
   "display_name": "Python 3",
   "language": "python",
   "name": "python3"
  },
  "language_info": {
   "codemirror_mode": {
    "name": "ipython",
    "version": 3
   },
   "file_extension": ".py",
   "mimetype": "text/x-python",
   "name": "python",
   "nbconvert_exporter": "python",
   "pygments_lexer": "ipython3",
   "version": "3.6.5"
  }
 },
 "nbformat": 4,
 "nbformat_minor": 2
}
